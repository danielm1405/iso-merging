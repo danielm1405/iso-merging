{
 "cells": [
  {
   "cell_type": "code",
   "execution_count": 4,
   "metadata": {},
   "outputs": [],
   "source": [
    "import json\n",
    "\n",
    "\n",
    "def compute_average(dataset_list, model):\n",
    "    filename = f\"{model}/nonlinear_ft_accuracies.json\"\n",
    "\n",
    "    # Read the data from the JSON file\n",
    "    with open(filename, \"r\") as file:\n",
    "        data = json.load(file)\n",
    "\n",
    "    # Filter the values corresponding to the datasets in the list\n",
    "    selected_values = [data[dataset] for dataset in dataset_list if dataset in data]\n",
    "\n",
    "    # Compute the average if there are values\n",
    "    if selected_values:\n",
    "        avg_value = sum(selected_values) / len(selected_values)\n",
    "        return avg_value\n",
    "    else:\n",
    "        return None\n",
    "\n",
    "\n",
    "ALL_DATASETS = [\n",
    "    \"Cars\",\n",
    "    \"DTD\",\n",
    "    \"EuroSAT\",\n",
    "    \"GTSRB\",\n",
    "    \"MNIST\",\n",
    "    \"RESISC45\",\n",
    "    \"SVHN\",\n",
    "    \"SUN397\",\n",
    "    \"STL10\",\n",
    "    \"OxfordIIITPet\",\n",
    "    \"Flowers102\",\n",
    "    \"CIFAR100\",\n",
    "    \"PCAM\",\n",
    "    \"FER2013\",\n",
    "    \"CIFAR10\",\n",
    "    \"Food101\",\n",
    "    \"FashionMNIST\",\n",
    "    \"RenderedSST2\",\n",
    "    \"EMNIST\",\n",
    "    \"KMNIST\",\n",
    "]\n",
    "\n",
    "DATASETS_8 = ALL_DATASETS[:8]\n",
    "DATASETS_14 = ALL_DATASETS[:14]\n",
    "DATASETS_20 = ALL_DATASETS[:20]"
   ]
  },
  {
   "cell_type": "code",
   "execution_count": 5,
   "metadata": {},
   "outputs": [
    {
     "name": "stdout",
     "output_type": "stream",
     "text": [
      "Average accuracy for ViT-B-32 8 datasets: 0.9282918143323011\n",
      "Average accuracy for ViT-B-32 14 datasets: 0.9087972811660993\n",
      "Average accuracy for ViT-B-32 20 datasets: 0.9136952367363982\n"
     ]
    }
   ],
   "source": [
    "model = \"ViT-B-32\"\n",
    "task8_average = compute_average(DATASETS_8, model)\n",
    "task14_average = compute_average(DATASETS_14, model)\n",
    "task20_average = compute_average(DATASETS_20, model)\n",
    "\n",
    "print(f\"Average accuracy for {model} 8 datasets: {task8_average}\")\n",
    "print(f\"Average accuracy for {model} 14 datasets: {task14_average}\")\n",
    "print(f\"Average accuracy for {model} 20 datasets: {task20_average}\")"
   ]
  },
  {
   "cell_type": "code",
   "execution_count": 6,
   "metadata": {},
   "outputs": [
    {
     "name": "stdout",
     "output_type": "stream",
     "text": [
      "Average accuracy for ViT-B-16 8 datasets: 0.9464026499875514\n",
      "Average accuracy for ViT-B-16 14 datasets: 0.9275852377263349\n",
      "Average accuracy for ViT-B-16 20 datasets: 0.9317241502425263\n"
     ]
    }
   ],
   "source": [
    "model = \"ViT-B-16\"\n",
    "task8_average = compute_average(DATASETS_8, model)\n",
    "task14_average = compute_average(DATASETS_14, model)\n",
    "task20_average = compute_average(DATASETS_20, model)\n",
    "\n",
    "print(f\"Average accuracy for {model} 8 datasets: {task8_average}\")\n",
    "print(f\"Average accuracy for {model} 14 datasets: {task14_average}\")\n",
    "print(f\"Average accuracy for {model} 20 datasets: {task20_average}\")"
   ]
  },
  {
   "cell_type": "code",
   "execution_count": 7,
   "metadata": {},
   "outputs": [
    {
     "name": "stdout",
     "output_type": "stream",
     "text": [
      "Average accuracy for ViT-L-14 8 datasets: 0.9581371002869351\n",
      "Average accuracy for ViT-L-14 14 datasets: 0.9428806497297183\n",
      "Average accuracy for ViT-L-14 20 datasets: 0.9472559260239868\n"
     ]
    }
   ],
   "source": [
    "model = \"ViT-L-14\"\n",
    "task8_average = compute_average(DATASETS_8, model)\n",
    "task14_average = compute_average(DATASETS_14, model)\n",
    "task20_average = compute_average(DATASETS_20, model)\n",
    "\n",
    "print(f\"Average accuracy for {model} 8 datasets: {task8_average}\")\n",
    "print(f\"Average accuracy for {model} 14 datasets: {task14_average}\")\n",
    "print(f\"Average accuracy for {model} 20 datasets: {task20_average}\")"
   ]
  }
 ],
 "metadata": {
  "kernelspec": {
   "display_name": "tall-masks",
   "language": "python",
   "name": "python3"
  },
  "language_info": {
   "codemirror_mode": {
    "name": "ipython",
    "version": 3
   },
   "file_extension": ".py",
   "mimetype": "text/x-python",
   "name": "python",
   "nbconvert_exporter": "python",
   "pygments_lexer": "ipython3",
   "version": "3.10.11"
  }
 },
 "nbformat": 4,
 "nbformat_minor": 2
}
